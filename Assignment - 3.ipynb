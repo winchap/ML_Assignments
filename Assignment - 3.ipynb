{
 "cells": [
  {
   "cell_type": "markdown",
   "metadata": {},
   "source": [
    "# Task 1"
   ]
  },
  {
   "cell_type": "markdown",
   "metadata": {},
   "source": [
    "1.Write a function to compute 5/0 and use try/except to catch the exceptions."
   ]
  },
  {
   "cell_type": "code",
   "execution_count": 5,
   "metadata": {},
   "outputs": [
    {
     "name": "stdout",
     "output_type": "stream",
     "text": [
      "division by zero\n",
      "There is a problem with the code\n"
     ]
    }
   ],
   "source": [
    "try:\n",
    "    a=5/0\n",
    "    a\n",
    "except Exception as e:\n",
    "   print(e)\n",
    "   print(\"There is a problem with the code\")"
   ]
  },
  {
   "cell_type": "markdown",
   "metadata": {},
   "source": [
    "2.Implement a Python program to generate all sentences where subject is in [\"Americans\",\n",
    "\"Indians\"] and verb is in [\"Play\", \"watch\"] and the object is in [\"Baseball\",\"cricket\"].\n",
    "\n",
    "Hint: Subject,Verb and Object should be declared in the program as shown below.\n",
    "\n",
    "subjects=[\"Americans \",\"Indians\"]\n",
    "verbs=[\"play\",\"watch\"]\n",
    "objects=[\"Baseball\",\"Cricket\"]"
   ]
  },
  {
   "cell_type": "code",
   "execution_count": 18,
   "metadata": {},
   "outputs": [
    {
     "name": "stdout",
     "output_type": "stream",
     "text": [
      "Americans Play Baseball\n",
      "Americans watch cricket\n",
      "Americans watch Baseball\n",
      "Americans Play cricket\n",
      "Indians Play Baseball\n",
      "Indians Play cricket\n",
      "Indians watch Baseball\n",
      "Indians watch cricket\n"
     ]
    }
   ],
   "source": [
    "subject=[\"Americans\", \"Indians\"] \n",
    "verb=[\"Play\", \"watch\"]\n",
    "obj=[\"Baseball\",\"cricket\"]\n",
    "\n",
    "print(subject[0]+\" \"+verb[0]+\" \"+obj[0])\n",
    "print(subject[0]+\" \"+verb[1]+\" \"+obj[1])\n",
    "print(subject[0]+\" \"+verb[1]+\" \"+obj[0])\n",
    "print(subject[0]+\" \"+verb[0]+\" \"+obj[1])\n",
    "print(subject[1]+\" \"+verb[0]+\" \"+obj[0])\n",
    "print(subject[1]+\" \"+verb[0]+\" \"+obj[1])\n",
    "print(subject[1]+\" \"+verb[1]+\" \"+obj[0])\n",
    "print(subject[1]+\" \"+verb[1]+\" \"+obj[1])\n"
   ]
  },
  {
   "cell_type": "markdown",
   "metadata": {},
   "source": [
    "# Task2"
   ]
  },
  {
   "cell_type": "markdown",
   "metadata": {},
   "source": [
    "1.Write a function so that the columns of the output matrix are powers of the input vector.\n",
    "The order of the powers is determined by the increasing boolean argument. Specifically, when\n",
    "increasing is False, the i-th output column is the input vector raised element-wise to the power\n",
    "of N - i - 1.\n",
    "\n",
    "HINT: Such a matrix with a geometric progression in each row is named for Alexandre-\n",
    "Theophile Vandermonde."
   ]
  },
  {
   "cell_type": "code",
   "execution_count": 25,
   "metadata": {},
   "outputs": [
    {
     "name": "stdout",
     "output_type": "stream",
     "text": [
      "Input Vector         :  [6, 7, 8, 9, 10]\n",
      "\n",
      "Output Matrix :  [    1     7    64   729 10000]\n"
     ]
    }
   ],
   "source": [
    "import numpy as np \n",
    "  \n",
    " \n",
    "arr1 = np.arange(5) \n",
    "#input vector\n",
    "arr2 = [6,7,8,9,10]\n",
    "print (\"Input Vector         : \", arr2) \n",
    "  \n",
    "# output_matrix \n",
    "out = np.power(arr2, arr1) \n",
    "print (\"\\nOutput Matrix : \", out)"
   ]
  },
  {
   "cell_type": "code",
   "execution_count": null,
   "metadata": {},
   "outputs": [],
   "source": []
  }
 ],
 "metadata": {
  "kernelspec": {
   "display_name": "Python 3",
   "language": "python",
   "name": "python3"
  },
  "language_info": {
   "codemirror_mode": {
    "name": "ipython",
    "version": 3
   },
   "file_extension": ".py",
   "mimetype": "text/x-python",
   "name": "python",
   "nbconvert_exporter": "python",
   "pygments_lexer": "ipython3",
   "version": "3.7.4"
  }
 },
 "nbformat": 4,
 "nbformat_minor": 2
}
