{
 "cells": [
  {
   "cell_type": "markdown",
   "metadata": {},
   "source": [
    "# Write two parent classes A and B having test methods in each class. Now write a child class C which can access test methods from both parent classes"
   ]
  },
  {
   "cell_type": "code",
   "execution_count": 12,
   "metadata": {},
   "outputs": [
    {
     "name": "stdout",
     "output_type": "stream",
     "text": [
      "In Class A\n",
      "In Class B\n"
     ]
    }
   ],
   "source": [
    "class A:\n",
    "    def test_A(self):\n",
    "        print(\"In Class A\")\n",
    "    \n",
    "class B:\n",
    "    def test_B(self):\n",
    "        print(\"In Class B\")\n",
    "        \n",
    "class C(A,B):\n",
    "    def test_C(self):\n",
    "        A.test_A(self)\n",
    "        B.test_B(self)\n",
    "        \n",
    "Result=C()\n",
    "Result.test_A()\n",
    "Result.test_B()"
   ]
  },
  {
   "cell_type": "code",
   "execution_count": null,
   "metadata": {},
   "outputs": [],
   "source": []
  }
 ],
 "metadata": {
  "kernelspec": {
   "display_name": "Python 3",
   "language": "python",
   "name": "python3"
  },
  "language_info": {
   "codemirror_mode": {
    "name": "ipython",
    "version": 3
   },
   "file_extension": ".py",
   "mimetype": "text/x-python",
   "name": "python",
   "nbconvert_exporter": "python",
   "pygments_lexer": "ipython3",
   "version": "3.7.4"
  }
 },
 "nbformat": 4,
 "nbformat_minor": 2
}
